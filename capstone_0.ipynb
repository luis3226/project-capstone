{
 "cells": [
  {
   "cell_type": "markdown",
   "metadata": {},
   "source": [
    "# CAPSTONE PROJECT PART-1"
   ]
  },
  {
   "cell_type": "markdown",
   "metadata": {},
   "source": [
    "## Import librarys"
   ]
  },
  {
   "cell_type": "code",
   "execution_count": 1,
   "metadata": {},
   "outputs": [],
   "source": [
    "import pandas as pd\n",
    "import requests\n",
    "from bs4 import BeautifulSoup\n",
    "import numpy as np"
   ]
  },
  {
   "cell_type": "markdown",
   "metadata": {},
   "source": [
    "## Get the html code of the link"
   ]
  },
  {
   "cell_type": "code",
   "execution_count": 2,
   "metadata": {},
   "outputs": [],
   "source": [
    "url = 'https://en.wikipedia.org/wiki/List_of_postal_codes_of_Canada:_M'\n",
    "r = requests.get(url)\n",
    "html_page= r.text\n",
    "soup = BeautifulSoup(html_page, \"lxml\")"
   ]
  },
  {
   "cell_type": "markdown",
   "metadata": {},
   "source": [
    "## Extracting the table's values in 3 lists\n",
    "to create a table is used  \"table\" and inside it are \"tr\" for each row and \"td\" for the elements inside of each cell, so first we need extract each row and the extract each element"
   ]
  },
  {
   "cell_type": "code",
   "execution_count": 3,
   "metadata": {},
   "outputs": [],
   "source": [
    "h=[i for i in soup.find_all('tr')] \n",
    "del(h[-5:]) # elements that we don't need\n",
    "potc=[] # for postalcode\n",
    "boro=[] # for borough\n",
    "neigh=[] # for neighbourhood\n",
    "for j in range(1,290):\n",
    "    potc.append(h[j].find_all('td')[0].text) # text is for extract just the text, instead of <td>text</td>\n",
    "    boro.append(h[j].find_all('td')[1].text)\n",
    "    neigh.append(h[j].find_all('td')[2].text)\n",
    "neigh=[i.split('\\n')[0] for i in neigh]"
   ]
  },
  {
   "cell_type": "markdown",
   "metadata": {},
   "source": [
    "## Create the Dataframe\n",
    "### 1) Drop all rows that we won't need"
   ]
  },
  {
   "cell_type": "code",
   "execution_count": 4,
   "metadata": {},
   "outputs": [
    {
     "data": {
      "text/plain": [
       "(212, 3)"
      ]
     },
     "execution_count": 4,
     "metadata": {},
     "output_type": "execute_result"
    }
   ],
   "source": [
    "dic = {'Postalcode':potc,'Borough':boro,'Neighbourhood':neigh}\n",
    "df = pd.DataFrame(dic)[['Postalcode','Borough','Neighbourhood']]\n",
    "\n",
    "drops = df[df['Borough'] == 'Not assigned'].index # we don't need this rows\n",
    "df = df.drop(labels=drops,axis = 0).reset_index(drop=True)\n",
    "\n",
    "\n",
    "not_neigh = df[df['Neighbourhood'] == 'Not assigned'].index # not_neigh just have 1 element, so is not neccesary a for loop\n",
    "df.iloc[not_neigh[0],2] = df.iloc[not_neigh[0],1] # replace Not assigned for the neighbourhood\n",
    "df.shape"
   ]
  },
  {
   "cell_type": "markdown",
   "metadata": {},
   "source": [
    "### 2) Just unique values\n",
    "When postalcode is repited we will join each neighbourhood's value with ',' and drop the rest"
   ]
  },
  {
   "cell_type": "code",
   "execution_count": 5,
   "metadata": {},
   "outputs": [
    {
     "data": {
      "text/plain": [
       "(103, 3)"
      ]
     },
     "execution_count": 5,
     "metadata": {},
     "output_type": "execute_result"
    }
   ],
   "source": [
    "uni=pd.unique(df['Postalcode']) # the uniques postalcodes\n",
    "for code in uni:\n",
    "    ff=df[df['Postalcode'] == code].index # find the index of each postalcode\n",
    "    if len(ff)>1: # if there are more than 1 index for each postalcode, we'll join each neighbourhood\n",
    "        for ind in range(1,len(ff)):\n",
    "            df.iloc[ff[0],2]=df.iloc[ff[0],2]+','+df.iloc[ff[ind],2]\n",
    "for code in uni:  # just keep 1 value for each postal code and drop the rest \n",
    "    ff=df[df['Postalcode'] == code].index\n",
    "    df=df.drop(ff[1:],axis=0)\n",
    "\n",
    "df=df.reset_index(drop=True)\n",
    "df =  df.sort_values(by=['Postalcode'])\n",
    "df.shape"
   ]
  }
 ],
 "metadata": {
  "kernelspec": {
   "display_name": "Python 3.5",
   "language": "python",
   "name": "python3"
  },
  "language_info": {
   "codemirror_mode": {
    "name": "ipython",
    "version": 3
   },
   "file_extension": ".py",
   "mimetype": "text/x-python",
   "name": "python",
   "nbconvert_exporter": "python",
   "pygments_lexer": "ipython3",
   "version": "3.5.5"
  }
 },
 "nbformat": 4,
 "nbformat_minor": 1
}
